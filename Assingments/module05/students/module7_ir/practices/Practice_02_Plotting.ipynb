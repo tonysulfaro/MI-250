{
 "cells": [
  {
   "cell_type": "markdown",
   "metadata": {},
   "source": [
    "# Practice 2:  An overview of plotting"
   ]
  },
  {
   "cell_type": "code",
   "execution_count": null,
   "metadata": {
    "collapsed": true
   },
   "outputs": [],
   "source": [
    "%matplotlib inline\n",
    "from pylab import *\n",
    "from random import random"
   ]
  },
  {
   "cell_type": "markdown",
   "metadata": {},
   "source": [
    "## Histograms\n",
    "A histogram displays the probability distribution of a continuous variable\n",
    "(Can be used for \"how many people said x how many times\")"
   ]
  },
  {
   "cell_type": "code",
   "execution_count": null,
   "metadata": {
    "collapsed": true
   },
   "outputs": [],
   "source": [
    "# Histograms\n",
    "x = randn(10000)\n",
    "hist_data = hist(x, 10)\n",
    "\n",
    "\n",
    "#Note:  This shows a relatively normal distribution"
   ]
  },
  {
   "cell_type": "code",
   "execution_count": null,
   "metadata": {
    "collapsed": true,
    "scrolled": false
   },
   "outputs": [],
   "source": [
    "# plotting a line.\n",
    "x = range(10)\n",
    "print(x)\n",
    "y = [3*random() + i + random() for i in x]\n",
    "print(y)\n",
    "plot(x,y)\n",
    "\n",
    "##You can save the images you create in Python easily in Jupyter notebooks!\n",
    "savefig(\"line.png\")"
   ]
  },
  {
   "cell_type": "code",
   "execution_count": null,
   "metadata": {
    "collapsed": true
   },
   "outputs": [],
   "source": [
    "# scatter plot\n",
    "scatter(x,y)\n",
    "## This is the same data as above"
   ]
  },
  {
   "cell_type": "code",
   "execution_count": null,
   "metadata": {
    "collapsed": true
   },
   "outputs": [],
   "source": [
    "# plotting two lines\n",
    "y2 = [3 + i + 2*random() for i in x]\n",
    "plot(x, y, color='r') # hold=True gives you the same axes\n",
    "plot(x, y2, color='b')"
   ]
  },
  {
   "cell_type": "markdown",
   "metadata": {},
   "source": [
    "## Fill\n",
    "Sometimes you might want to fill in an area of your graph - you can do this!"
   ]
  },
  {
   "cell_type": "code",
   "execution_count": null,
   "metadata": {
    "collapsed": true
   },
   "outputs": [],
   "source": [
    "# Fill in an area\n",
    "## Playing around with this shows you how it works!\n",
    "fill([1, 3, 4], [3, 3, 2])"
   ]
  },
  {
   "cell_type": "markdown",
   "metadata": {},
   "source": [
    "### Fill for standard deviation of sequences\n",
    "Remember, standard deviation measures how spread out the data is relative to the mean "
   ]
  },
  {
   "cell_type": "code",
   "execution_count": null,
   "metadata": {
    "collapsed": true
   },
   "outputs": [],
   "source": [
    "x = [0, 1, 2, 3, 4, 5, 6, 7, 8, 9]\n",
    "mean = [4, 4, 3, 3, 2, 2, 1, 1, 2, 2]\n",
    "stdev = [.5, .4, .3, .5, .6, .1, .2, .3, .1, .05]\n",
    "\n",
    "x2 = list(x)\n",
    "x2.reverse()\n",
    "\n",
    "topline = [mean[i] + stdev[i] for i in range(len(x))]\n",
    "bottomline = [mean[i] - stdev[i] for i in range(len(x))]\n",
    "bottomline.reverse()\n",
    "fill(x + x2, topline + bottomline)"
   ]
  },
  {
   "cell_type": "code",
   "execution_count": null,
   "metadata": {
    "collapsed": true
   },
   "outputs": [],
   "source": [
    "fill(x + x2, topline + bottomline, color='red', alpha=0.20) ## Alpha is a transparency param\n",
    "plot(x, mean,  color='k')"
   ]
  },
  {
   "cell_type": "markdown",
   "metadata": {},
   "source": [
    "## Axes"
   ]
  },
  {
   "cell_type": "code",
   "execution_count": null,
   "metadata": {
    "collapsed": true
   },
   "outputs": [],
   "source": [
    "# axis labeling\n",
    "fill(x + x2, topline + bottomline, color='r', alpha=0.2)\n",
    "plot(x, mean, color='r')\n",
    "xlabel(\"age (days)\")\n",
    "ylabel(\"income ($1k)\")"
   ]
  },
  {
   "cell_type": "code",
   "execution_count": null,
   "metadata": {
    "collapsed": true
   },
   "outputs": [],
   "source": [
    "# set the range of the axis\n",
    "fill(x + x2, topline + bottomline,  color='r', alpha=0.2)\n",
    "plot(x, mean,  color='r')\n",
    "xlabel(\"age\")\n",
    "ylabel(\"income (% of lifetime)\")\n",
    "# either one of these work - there are other ways to do this, too, but this is the most compact\n",
    "\n",
    "##NOTE  Xlim and Ylim take tuple as an argument\n",
    "xlim((0,15))\n",
    "ylim(0,100)"
   ]
  },
  {
   "cell_type": "code",
   "execution_count": null,
   "metadata": {
    "collapsed": true
   },
   "outputs": [],
   "source": [
    "# log scale axes\n",
    "## It is sometimes important to measure things in logs\n",
    "fill(x + x2, topline + bottomline, color='r', alpha=0.2)\n",
    "plot(x, mean, color='r')\n",
    "xlabel(\"age\")\n",
    "ylabel(\"income\")\n",
    "yscale('log')"
   ]
  },
  {
   "cell_type": "code",
   "execution_count": null,
   "metadata": {
    "collapsed": true
   },
   "outputs": [],
   "source": [
    "# captioning\n",
    "## Graphs are only as useful for you readers as their labels!\n",
    "fill(x + x2, topline + bottomline, color='r', alpha=0.2)\n",
    "plot(x, mean,  color='r')\n",
    "xlabel(\"age\")\n",
    "ylabel(\"income\")\n",
    "title(\"Poor example of the relationship between Age and Income\")"
   ]
  },
  {
   "cell_type": "code",
   "execution_count": null,
   "metadata": {
    "collapsed": true
   },
   "outputs": [],
   "source": [
    "# legend\n",
    "y2 = [3 + i + 2*random() for i in x]\n",
    "plot(x, y,  color='r', label='male')\n",
    "plot(x, y2, color='b', label='female')\n",
    "legend()\n",
    "xlabel(\"age\")\n",
    "ylabel(\"income\")\n",
    "title(\"Legend Example\")"
   ]
  },
  {
   "cell_type": "code",
   "execution_count": null,
   "metadata": {
    "collapsed": true,
    "scrolled": true
   },
   "outputs": [],
   "source": [
    "help(legend)"
   ]
  },
  {
   "cell_type": "code",
   "execution_count": null,
   "metadata": {
    "collapsed": true
   },
   "outputs": [],
   "source": [
    "## Location example\n",
    "\n",
    "y2 = [3 + i + 2*random() for i in x]\n",
    "plot(x, y,  color='r', marker=\"o\", label='male')\n",
    "plot(x, y2,  color='b', label='female')\n",
    "legend(loc=0)\n",
    "xlabel(\"age\")\n",
    "ylabel(\"income\")\n",
    "title(\"Legend Example\")"
   ]
  },
  {
   "cell_type": "code",
   "execution_count": null,
   "metadata": {
    "collapsed": true
   },
   "outputs": [],
   "source": [
    "#But what if my chart will be printed in black and white?\n",
    "#Or people are color blind?\n",
    "\n",
    "y2 = [3 + i + 2*random() for i in x]\n",
    "plot(x, y, 'r+-.',  label='male')\n",
    "plot(x, y2,  color='b', marker='o', linestyle='dashed', label='female')\n",
    "legend(loc=4)\n",
    "xlabel(\"age\")\n",
    "ylabel(\"income\")\n",
    "title(\"Poor Examples of Income across age in days and gender\")"
   ]
  },
  {
   "cell_type": "code",
   "execution_count": null,
   "metadata": {
    "collapsed": true,
    "scrolled": true
   },
   "outputs": [],
   "source": [
    "help(plot)"
   ]
  },
  {
   "cell_type": "markdown",
   "metadata": {},
   "source": [
    "# Column Plots"
   ]
  },
  {
   "cell_type": "code",
   "execution_count": null,
   "metadata": {
    "collapsed": true
   },
   "outputs": [],
   "source": [
    "import numpy\n",
    "means = [25, 35, 30, 35, 27]\n",
    "stds = [2, 3, 4, 1, 2]\n",
    "\n",
    "placement = numpy.arange(5)\n",
    "#returns evenly spaced values within a specified range\n",
    "width = 0.65\n",
    "\n",
    "bar(placement, means, width, color='r', yerr=stds)\n",
    "##Error bars are super helpful to know how to plot!\n",
    "ylabel(\"scores\")\n",
    "title(\"Bar Chart\")\n",
    "xticks(placement + width/2.0, ('one', '2', '3', 'IV', 'five'))"
   ]
  },
  {
   "cell_type": "code",
   "execution_count": null,
   "metadata": {
    "collapsed": true
   },
   "outputs": [],
   "source": [
    "means = [25, 35, 30, 35, 27]\n",
    "means2 = list(means)\n",
    "means2.reverse()\n",
    "stds = [2, 3, 4, 1, 2]\n",
    "stds2 = [3, 2, 1, 1, 5]\n",
    "\n",
    "placement = numpy.arange(5)\n",
    "width = 0.35\n",
    "\n",
    "bar(placement, means, width, color='r', yerr=stds)\n",
    "bar([p+width for p in placement], means2, width, color='y', yerr=stds2)\n",
    "ylabel(\"scores\")\n",
    "title(\"Bar Chart\")\n",
    "xticks(placement + width, ('one', 'two', 'three', 'four', 'five'))"
   ]
  },
  {
   "cell_type": "code",
   "execution_count": null,
   "metadata": {
    "collapsed": true
   },
   "outputs": [],
   "source": [
    "# box and whisker plots\n",
    "# some fake data \n",
    "spread = rand(50) * 100\n",
    "center = ones(25) * 50\n",
    "flier_high = rand(10) * 100 + 100\n",
    "flier_low = rand(10) * -100\n",
    "data = concatenate((spread, center, flier_high, flier_low), 0)\n",
    "bp_data = boxplot(data)"
   ]
  },
  {
   "cell_type": "code",
   "execution_count": null,
   "metadata": {
    "collapsed": true
   },
   "outputs": [],
   "source": [
    "from nltk.book import *"
   ]
  },
  {
   "cell_type": "code",
   "execution_count": null,
   "metadata": {
    "collapsed": true
   },
   "outputs": [],
   "source": [
    "text4.dispersion_plot([\"citizens\", \"democracy\", \"freedom\", \"moon\", \"America\"])"
   ]
  },
  {
   "cell_type": "code",
   "execution_count": null,
   "metadata": {
    "collapsed": true
   },
   "outputs": [],
   "source": [
    "fdist = FreqDist(text1)\n",
    "fdist.plot(50)"
   ]
  },
  {
   "cell_type": "code",
   "execution_count": null,
   "metadata": {
    "collapsed": true
   },
   "outputs": [],
   "source": []
  }
 ],
 "metadata": {
  "kernelspec": {
   "display_name": "Python 3",
   "language": "python",
   "name": "python3"
  },
  "language_info": {
   "codemirror_mode": {
    "name": "ipython",
    "version": 3
   },
   "file_extension": ".py",
   "mimetype": "text/x-python",
   "name": "python",
   "nbconvert_exporter": "python",
   "pygments_lexer": "ipython3",
   "version": "3.4.5"
  }
 },
 "nbformat": 4,
 "nbformat_minor": 1
}
