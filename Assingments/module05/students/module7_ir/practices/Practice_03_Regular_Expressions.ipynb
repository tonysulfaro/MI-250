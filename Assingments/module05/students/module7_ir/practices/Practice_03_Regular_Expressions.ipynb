{
 "cells": [
  {
   "cell_type": "markdown",
   "metadata": {},
   "source": [
    "# Practice 3: Regular Expressions in Python\n",
    "\n",
    "Regular expressions are fundamental parts of any text processing. \n",
    "\n",
    "[Read all about regular experssions here!](https://docs.python.org/3/library/re.html)\n",
    "\n",
    "**Below are a number of examples to play with**"
   ]
  },
  {
   "cell_type": "code",
   "execution_count": null,
   "metadata": {
    "collapsed": true
   },
   "outputs": [],
   "source": [
    "import re"
   ]
  },
  {
   "cell_type": "markdown",
   "metadata": {},
   "source": [
    "<h2>Search</h2>"
   ]
  },
  {
   "cell_type": "code",
   "execution_count": null,
   "metadata": {
    "collapsed": true
   },
   "outputs": [],
   "source": [
    "text_to_search = 'What is the frequency Kenneth!?'"
   ]
  },
  {
   "cell_type": "code",
   "execution_count": null,
   "metadata": {},
   "outputs": [],
   "source": [
    "regex_search = r'the'\n",
    "regmine = r'What'\n",
    "searched = re.search(regex_search, text_to_search)\n",
    "also_searched = re.search(regmine, text_to_search)\n",
    "print(type(searched))\n",
    "print(type (also_searched))\n",
    "print()\n",
    "\n",
    "##if you don't remember to print type, you will find out it's an object anyway\n",
    "print(searched)\n",
    "print(also_searched)"
   ]
  },
  {
   "cell_type": "code",
   "execution_count": null,
   "metadata": {},
   "outputs": [],
   "source": [
    "if searched:\n",
    "    print(searched.group(0))\n",
    "else:\n",
    "    print('Nothing found')"
   ]
  },
  {
   "cell_type": "markdown",
   "metadata": {},
   "source": [
    "<h2>Match</h2>"
   ]
  },
  {
   "cell_type": "code",
   "execution_count": null,
   "metadata": {},
   "outputs": [],
   "source": [
    "regex_match_fail = 'fellow'\n",
    "not_matched = re.match(regex_match_fail, text_to_search)\n",
    "print(type(not_matched))"
   ]
  },
  {
   "cell_type": "code",
   "execution_count": null,
   "metadata": {},
   "outputs": [],
   "source": [
    "if not_matched:\n",
    "    print(not_matched.group(0))\n",
    "else:\n",
    "    print('Nothing matched')"
   ]
  },
  {
   "cell_type": "code",
   "execution_count": null,
   "metadata": {},
   "outputs": [],
   "source": [
    "regex_match = r'What'\n",
    "matched = re.match(regex_match, text_to_search)\n",
    "print(type(matched))"
   ]
  },
  {
   "cell_type": "code",
   "execution_count": null,
   "metadata": {},
   "outputs": [],
   "source": [
    "text_to_search"
   ]
  },
  {
   "cell_type": "code",
   "execution_count": null,
   "metadata": {},
   "outputs": [],
   "source": [
    "if matched:\n",
    "    print(matched.group(0))\n",
    "else:\n",
    "    print('Nothing matched')"
   ]
  },
  {
   "cell_type": "markdown",
   "metadata": {},
   "source": [
    "<h2>Find All</h2>"
   ]
  },
  {
   "cell_type": "code",
   "execution_count": null,
   "metadata": {},
   "outputs": [],
   "source": [
    "regex_findall = r'frequency'\n",
    "## A breakdown of this RE:\n",
    "# \\w == alphanumeric!\n",
    "## o == o\n",
    "## \\w == alpahnumeric\n",
    "## ? == optional\n",
    "\n",
    "found = re.findall(regex_findall, text_to_search)\n",
    "print(type(found))"
   ]
  },
  {
   "cell_type": "code",
   "execution_count": null,
   "metadata": {},
   "outputs": [],
   "source": [
    "print(found)\n",
    "## Note that this returns \"low\", which is not a word in our corpus!"
   ]
  },
  {
   "cell_type": "markdown",
   "metadata": {},
   "source": [
    "<h2>Sub</h2>"
   ]
  },
  {
   "cell_type": "code",
   "execution_count": null,
   "metadata": {
    "collapsed": true
   },
   "outputs": [],
   "source": [
    "text_to_change = \"frog bog log cog nog fog\"\n",
    "more_text_to_change = \"frog bog log cog nog fog schlog nschlog grog\"\n",
    "## add schlog\n",
    "## add nschlog\n",
    "## add grog"
   ]
  },
  {
   "cell_type": "code",
   "execution_count": null,
   "metadata": {},
   "outputs": [],
   "source": [
    "regex_sub = r'[^og ]{1,2}'\n",
    "#find not o and not g and not space\n",
    "#1 or 2 of these things\n",
    "subbed = re.sub(regex_sub, 'd', text_to_change)\n",
    "subbed_again = re.sub(regex_sub, 'd', more_text_to_change)\n",
    "print(type(subbed))"
   ]
  },
  {
   "cell_type": "code",
   "execution_count": null,
   "metadata": {},
   "outputs": [],
   "source": [
    "print(subbed)\n",
    "print(subbed_again)"
   ]
  },
  {
   "cell_type": "markdown",
   "metadata": {},
   "source": [
    "<h2>Split</h2>"
   ]
  },
  {
   "cell_type": "code",
   "execution_count": null,
   "metadata": {
    "collapsed": true
   },
   "outputs": [],
   "source": [
    "text_to_split = 'This1is2some34text567to89split'"
   ]
  },
  {
   "cell_type": "code",
   "execution_count": null,
   "metadata": {},
   "outputs": [],
   "source": [
    "split_text = re.split(r'\\d+', text_to_split)\n",
    "print(split_text)"
   ]
  },
  {
   "cell_type": "markdown",
   "metadata": {},
   "source": [
    "<h2>Greed</h2>"
   ]
  },
  {
   "cell_type": "code",
   "execution_count": null,
   "metadata": {
    "collapsed": true
   },
   "outputs": [],
   "source": [
    "html = '<h1>Header!</h1> <p>Paragraph!</p>'"
   ]
  },
  {
   "cell_type": "code",
   "execution_count": null,
   "metadata": {},
   "outputs": [],
   "source": [
    "regex_greedy = r'<.*>'\n",
    "greedy = re.findall(regex_greedy, html)\n",
    "print(greedy)"
   ]
  },
  {
   "cell_type": "code",
   "execution_count": null,
   "metadata": {},
   "outputs": [],
   "source": [
    "regex_not_greedy = r'<.*?>'\n",
    "regex_not_greedy_words = r'<.*?>(.*?)<.*?>'\n",
    "## *? == not greedy!\n",
    "\n",
    "not_greedy = re.findall(regex_not_greedy, html)\n",
    "not_greedy_words = re.findall(regex_not_greedy_words, html)\n",
    "\n",
    "print(not_greedy)\n",
    "print(not_greedy_words)\n",
    "\n",
    "##NOTE:  Python returns the highest group number by default when using findall \n"
   ]
  },
  {
   "cell_type": "markdown",
   "metadata": {
    "collapsed": true
   },
   "source": [
    "## TODO: \n",
    "    \n",
    "    Build a string, and use search, match and sub functions against it similar to the examples above. "
   ]
  },
  {
   "cell_type": "code",
   "execution_count": null,
   "metadata": {
    "collapsed": true
   },
   "outputs": [],
   "source": [
    "## Your Code Here\n",
    "\n",
    "\n",
    "\n",
    "\n",
    "\n"
   ]
  }
 ],
 "metadata": {
  "kernelspec": {
   "display_name": "Python 3",
   "language": "python",
   "name": "python3"
  },
  "language_info": {
   "codemirror_mode": {
    "name": "ipython",
    "version": 3
   },
   "file_extension": ".py",
   "mimetype": "text/x-python",
   "name": "python",
   "nbconvert_exporter": "python",
   "pygments_lexer": "ipython3",
   "version": "3.4.5"
  }
 },
 "nbformat": 4,
 "nbformat_minor": 1
}
