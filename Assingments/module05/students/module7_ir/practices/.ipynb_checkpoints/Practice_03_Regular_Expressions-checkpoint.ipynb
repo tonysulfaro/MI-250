{
 "cells": [
  {
   "cell_type": "markdown",
   "metadata": {},
   "source": [
    "# Practice 3: Regular Expressions in Python\n",
    "\n",
    "Regular expressions are fundamental parts of any text processing. \n",
    "\n",
    "[Read all about regular experssions here!](https://docs.python.org/3/library/re.html)\n",
    "\n",
    "**Below are a number of examples to play with**"
   ]
  },
  {
   "cell_type": "code",
   "execution_count": 1,
   "metadata": {},
   "outputs": [],
   "source": [
    "import re"
   ]
  },
  {
   "cell_type": "markdown",
   "metadata": {},
   "source": [
    "<h2>Search</h2>"
   ]
  },
  {
   "cell_type": "code",
   "execution_count": 2,
   "metadata": {},
   "outputs": [],
   "source": [
    "text_to_search = 'What is the frequency Kenneth!?'"
   ]
  },
  {
   "cell_type": "code",
   "execution_count": 3,
   "metadata": {},
   "outputs": [
    {
     "name": "stdout",
     "output_type": "stream",
     "text": [
      "<class '_sre.SRE_Match'>\n",
      "<class '_sre.SRE_Match'>\n",
      "\n",
      "<_sre.SRE_Match object; span=(8, 11), match='the'>\n",
      "<_sre.SRE_Match object; span=(0, 4), match='What'>\n"
     ]
    }
   ],
   "source": [
    "regex_search = r'the'\n",
    "regmine = r'What'\n",
    "searched = re.search(regex_search, text_to_search)\n",
    "also_searched = re.search(regmine, text_to_search)\n",
    "print(type(searched))\n",
    "print(type (also_searched))\n",
    "print()\n",
    "\n",
    "##if you don't remember to print type, you will find out it's an object anyway\n",
    "print(searched)\n",
    "print(also_searched)"
   ]
  },
  {
   "cell_type": "code",
   "execution_count": 4,
   "metadata": {},
   "outputs": [
    {
     "name": "stdout",
     "output_type": "stream",
     "text": [
      "the\n"
     ]
    }
   ],
   "source": [
    "if searched:\n",
    "    print(searched.group(0))\n",
    "else:\n",
    "    print('Nothing found')"
   ]
  },
  {
   "cell_type": "markdown",
   "metadata": {},
   "source": [
    "<h2>Match</h2>"
   ]
  },
  {
   "cell_type": "code",
   "execution_count": 5,
   "metadata": {},
   "outputs": [
    {
     "name": "stdout",
     "output_type": "stream",
     "text": [
      "<class 'NoneType'>\n"
     ]
    }
   ],
   "source": [
    "regex_match_fail = 'fellow'\n",
    "not_matched = re.match(regex_match_fail, text_to_search)\n",
    "print(type(not_matched))"
   ]
  },
  {
   "cell_type": "code",
   "execution_count": 6,
   "metadata": {},
   "outputs": [
    {
     "name": "stdout",
     "output_type": "stream",
     "text": [
      "Nothing matched\n"
     ]
    }
   ],
   "source": [
    "if not_matched:\n",
    "    print(not_matched.group(0))\n",
    "else:\n",
    "    print('Nothing matched')"
   ]
  },
  {
   "cell_type": "code",
   "execution_count": 7,
   "metadata": {},
   "outputs": [
    {
     "name": "stdout",
     "output_type": "stream",
     "text": [
      "<class '_sre.SRE_Match'>\n"
     ]
    }
   ],
   "source": [
    "regex_match = r'What'\n",
    "matched = re.match(regex_match, text_to_search)\n",
    "print(type(matched))"
   ]
  },
  {
   "cell_type": "code",
   "execution_count": 8,
   "metadata": {},
   "outputs": [
    {
     "data": {
      "text/plain": [
       "'What is the frequency Kenneth!?'"
      ]
     },
     "execution_count": 8,
     "metadata": {},
     "output_type": "execute_result"
    }
   ],
   "source": [
    "text_to_search"
   ]
  },
  {
   "cell_type": "code",
   "execution_count": 9,
   "metadata": {},
   "outputs": [
    {
     "name": "stdout",
     "output_type": "stream",
     "text": [
      "What\n"
     ]
    }
   ],
   "source": [
    "if matched:\n",
    "    print(matched.group(0))\n",
    "else:\n",
    "    print('Nothing matched')"
   ]
  },
  {
   "cell_type": "markdown",
   "metadata": {},
   "source": [
    "<h2>Find All</h2>"
   ]
  },
  {
   "cell_type": "code",
   "execution_count": 10,
   "metadata": {},
   "outputs": [
    {
     "name": "stdout",
     "output_type": "stream",
     "text": [
      "<class 'list'>\n"
     ]
    }
   ],
   "source": [
    "regex_findall = r'frequency'\n",
    "## A breakdown of this RE:\n",
    "# \\w == alphanumeric!\n",
    "## o == o\n",
    "## \\w == alpahnumeric\n",
    "## ? == optional\n",
    "\n",
    "found = re.findall(regex_findall, text_to_search)\n",
    "print(type(found))"
   ]
  },
  {
   "cell_type": "code",
   "execution_count": 11,
   "metadata": {},
   "outputs": [
    {
     "name": "stdout",
     "output_type": "stream",
     "text": [
      "['frequency']\n"
     ]
    }
   ],
   "source": [
    "print(found)\n",
    "## Note that this returns \"low\", which is not a word in our corpus!"
   ]
  },
  {
   "cell_type": "markdown",
   "metadata": {},
   "source": [
    "<h2>Sub</h2>"
   ]
  },
  {
   "cell_type": "code",
   "execution_count": 12,
   "metadata": {},
   "outputs": [],
   "source": [
    "text_to_change = \"frog bog log cog nog fog\"\n",
    "more_text_to_change = \"frog bog log cog nog fog schlog nschlog grog\"\n",
    "## add schlog\n",
    "## add nschlog\n",
    "## add grog"
   ]
  },
  {
   "cell_type": "code",
   "execution_count": 13,
   "metadata": {},
   "outputs": [
    {
     "name": "stdout",
     "output_type": "stream",
     "text": [
      "<class 'str'>\n"
     ]
    }
   ],
   "source": [
    "regex_sub = r'[^og ]{1,2}'\n",
    "#find not o and not g and not space\n",
    "#1 or 2 of these things\n",
    "subbed = re.sub(regex_sub, 'd', text_to_change)\n",
    "subbed_again = re.sub(regex_sub, 'd', more_text_to_change)\n",
    "print(type(subbed))"
   ]
  },
  {
   "cell_type": "code",
   "execution_count": 14,
   "metadata": {},
   "outputs": [
    {
     "name": "stdout",
     "output_type": "stream",
     "text": [
      "dog dog dog dog dog dog\n",
      "dog dog dog dog dog dog ddog dddog gdog\n"
     ]
    }
   ],
   "source": [
    "print(subbed)\n",
    "print(subbed_again)"
   ]
  },
  {
   "cell_type": "markdown",
   "metadata": {},
   "source": [
    "<h2>Split</h2>"
   ]
  },
  {
   "cell_type": "code",
   "execution_count": 15,
   "metadata": {},
   "outputs": [],
   "source": [
    "text_to_split = 'This1is2some34text567to89split'"
   ]
  },
  {
   "cell_type": "code",
   "execution_count": 16,
   "metadata": {},
   "outputs": [
    {
     "name": "stdout",
     "output_type": "stream",
     "text": [
      "['This', 'is', 'some', 'text', 'to', 'split']\n"
     ]
    }
   ],
   "source": [
    "split_text = re.split(r'\\d+', text_to_split)\n",
    "print(split_text)"
   ]
  },
  {
   "cell_type": "markdown",
   "metadata": {},
   "source": [
    "<h2>Greed</h2>"
   ]
  },
  {
   "cell_type": "code",
   "execution_count": 17,
   "metadata": {},
   "outputs": [],
   "source": [
    "html = '<h1>Header!</h1> <p>Paragraph!</p>'"
   ]
  },
  {
   "cell_type": "code",
   "execution_count": 18,
   "metadata": {},
   "outputs": [
    {
     "name": "stdout",
     "output_type": "stream",
     "text": [
      "['<h1>Header!</h1> <p>Paragraph!</p>']\n"
     ]
    }
   ],
   "source": [
    "regex_greedy = r'<.*>'\n",
    "greedy = re.findall(regex_greedy, html)\n",
    "print(greedy)"
   ]
  },
  {
   "cell_type": "code",
   "execution_count": 19,
   "metadata": {},
   "outputs": [
    {
     "name": "stdout",
     "output_type": "stream",
     "text": [
      "['<h1>', '</h1>', '<p>', '</p>']\n",
      "['Header!', 'Paragraph!']\n"
     ]
    }
   ],
   "source": [
    "regex_not_greedy = r'<.*?>'\n",
    "regex_not_greedy_words = r'<.*?>(.*?)<.*?>'\n",
    "## *? == not greedy!\n",
    "\n",
    "not_greedy = re.findall(regex_not_greedy, html)\n",
    "not_greedy_words = re.findall(regex_not_greedy_words, html)\n",
    "\n",
    "print(not_greedy)\n",
    "print(not_greedy_words)\n",
    "\n",
    "##NOTE:  Python returns the highest group number by default when using findall \n"
   ]
  },
  {
   "cell_type": "markdown",
   "metadata": {
    "collapsed": true
   },
   "source": [
    "## TODO: \n",
    "    \n",
    "    Build a string, and use search, match and sub functions against it similar to the examples above. "
   ]
  },
  {
   "cell_type": "code",
   "execution_count": null,
   "metadata": {},
   "outputs": [],
   "source": []
  },
  {
   "cell_type": "code",
   "execution_count": 53,
   "metadata": {},
   "outputs": [
    {
     "name": "stdout",
     "output_type": "stream",
     "text": [
      "BEGIN SEARCH\n",
      "<class '_sre.SRE_Match'>\n",
      "<class 'NoneType'>\n",
      "<_sre.SRE_Match object; span=(10, 14), match='test'>\n",
      "None\n",
      "\n",
      "BEGIN MATCH\n",
      "<class 'NoneType'>\n",
      "Nothing matched\n",
      "\n",
      "BEGIN SUB\n",
      "cone cone ccone cone cone\n"
     ]
    }
   ],
   "source": [
    "## Your Code Here\n",
    "\n",
    "text_to_search = 'this is a test of a test test that tests tests by testing'\n",
    "\n",
    "# Search\n",
    "print('BEGIN SEARCH')\n",
    "regex_search = r'test'\n",
    "regmine = r'the'\n",
    "searched = re.search(regex_search, text_to_search)\n",
    "also_searched = re.search(regmine, text_to_search)\n",
    "print(type(searched))\n",
    "print(type (also_searched))\n",
    "\n",
    "\n",
    "##if you don't remember to print type, you will find out it's an object anyway\n",
    "print(searched)\n",
    "print(also_searched)\n",
    "print()\n",
    "\n",
    "\n",
    "# match\n",
    "print('BEGIN MATCH')\n",
    "regex_match = r'testing'\n",
    "matched = re.match(regex_match, text_to_search)\n",
    "print(type(matched))\n",
    "if matched:\n",
    "    print(matched.group(0))\n",
    "else:\n",
    "    print('Nothing matched')\n",
    "print()\n",
    "    \n",
    "    \n",
    "# Sub\n",
    "print('BEGIN SUB')\n",
    "text_to_change = \"cone bone throne lone jone\"\n",
    "\n",
    "regex_sub = r'[^one ]{1,2}'\n",
    "\n",
    "subbed = re.sub(regex_sub, 'c', text_to_change)\n",
    "\n",
    "print(subbed)"
   ]
  },
  {
   "cell_type": "code",
   "execution_count": null,
   "metadata": {},
   "outputs": [],
   "source": []
  }
 ],
 "metadata": {
  "kernelspec": {
   "display_name": "Python 3",
   "language": "python",
   "name": "python3"
  },
  "language_info": {
   "codemirror_mode": {
    "name": "ipython",
    "version": 3
   },
   "file_extension": ".py",
   "mimetype": "text/x-python",
   "name": "python",
   "nbconvert_exporter": "python",
   "pygments_lexer": "ipython3",
   "version": "3.6.6"
  }
 },
 "nbformat": 4,
 "nbformat_minor": 1
}
