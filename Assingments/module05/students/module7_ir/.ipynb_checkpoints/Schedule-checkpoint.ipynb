{
 "cells": [
  {
   "cell_type": "markdown",
   "metadata": {},
   "source": [
    "## Module 7: Computational Linguistics\n",
    "\n",
    "Computational linguistics is a branch of machine learning and data science focused on making sense of the textual communications people perform online. There are other applications to be sure, but examination of online conversations and phenomena is by far the most prominent. \n",
    "\n",
    "Two types of online discussion are most common: Chat and discussion forums. The two papers below examine the application of advanced computational linguistics in each case. \n",
    "\n",
    "1. [Analysis of Online Chat using Computational Linguistics](./resources/Elsner.pdf)\n",
    "2. [Computational Linguistics to Identify Confusion in Massive Open Online Courses](./resources/Rose-2015.pdf)\n",
    "\n",
    "Review these two articles.  You need not master them or their approaches. Read them from the point of view of wanting a deeper sense of the strategies employed by computational linguists doing more complex work. \n",
    "\n",
    "The second article is by Dr. Carolyn Rose at Carnegie Mellon University.  Dr. Rose is in my view the world's foremost computational linguist looking at how knowledge is constructed online. The work she does led one of her former students, Elijah Mayfield, to drop out of his Ph.D program and build a system that attempts to automatically score essays on the SAT. [Elijah's company launch is described in this article](http://www.gettingsmart.com/2013/10/lightside-essay-scoring-engine-goes-school/).  His company was subsequently acquired by Pearson, and we have not heard much from him since; likely because the technology is now a closely guarded secret inside that testing organiztion. \n",
    "\n",
    "You will probably not aim at such complex goals. But lets start with some fundamentals in this module so that you have the basic tools required to do computational linguistic work. To that end, the labs and practices focus on the basic skills for computational linguistic work. The labs and practices are broken down to first give you experience using some finished products in the labs. One finished product is looking at how to identify the dominant topics in Donald J. Trumps tweets.  The second lab focuses on helping you break down \"parts of speech\", which is focused on using computation to tease out a linguistic phenomena. \n",
    "\n",
    "**Labs**\n",
    "1. [Identifying Dominant Topics with Computational Linguistic Analysis of Tweets](./labs/lab_01_tweets.ipynb)\n",
    "2. [Using Parts of Speech to Analyze Online Text](./labs/lab_02_parts_of_speech.ipynb)\n",
    "\n",
    "\n",
    "**Practices** \n",
    "1. [Fundamentals: Python's NLTK Library](./practices/Practice_01_Lists.ipynb)\n",
    "2. [Fundamentals: Plotting](./practices/Practice_02_Plotting.ipynb)\n",
    "3. [Fundamentals: Regular Experssions](./practices/Practice_03_Regular_Expressions.ipynb)\n",
    "\n",
    "\n",
    "**[Mayfield Alternate Link](./resources/mayfield-2013.ipynb)**"
   ]
  },
  {
   "cell_type": "code",
   "execution_count": null,
   "metadata": {
    "collapsed": true
   },
   "outputs": [],
   "source": []
  }
 ],
 "metadata": {
  "kernelspec": {
   "display_name": "R",
   "language": "R",
   "name": "ir"
  },
  "language_info": {
   "codemirror_mode": "r",
   "file_extension": ".r",
   "mimetype": "text/x-r-source",
   "name": "R",
   "pygments_lexer": "r",
   "version": "3.4.1"
  }
 },
 "nbformat": 4,
 "nbformat_minor": 2
}
