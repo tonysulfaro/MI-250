{
 "cells": [
  {
   "cell_type": "markdown",
   "metadata": {},
   "source": [
    "<p><strong>Shadyside startup LightSide to give schools early access to automated feedback and scoring for student writing</strong></p>\n",
    "<p>Pittsburgh’s latest education company is giving local schools the first chance to see how young writers can benefit from advanced machine learning technology.</p>\n",
    "<p>The new platform comes from LightSide, a tech spin-out of Carnegie Mellon University that improves student writing skills by using machine learning to assess writing. When deployed, their system automatically gives feedback on student essays, encourages revision, and eases the burden of grading for teachers struggling to maintain high standards for classroom writing.</p>\n",
    "<p>With this new platform, students write through an online interface, either on a computer or tablet. Once a first draft is complete, students will get instant, automated feedback on their progress, highlighting strengths and weaknesses of their writing. This guidance will continue for each draft, at the student’s own pace, until the final version is submitted to their teacher. Suggested scores are instantly given to teachers, who then review, add feedback, and assign a final grade to the student’s work.</p>\n",
    "<p>Chartiers Valley School District, located 6 miles southwest of downtown Pittsburgh, has already signed on as the first participant. “We’ve met with our English Language Arts teachers, and they’re thrilled to be involved in this development,” said Yvonne Hawkins, the district’s Assistant Superintendent for Curriculum. Up to 10 districts will be selected through the application process, which is open through November 24.</p>\n",
    "<p>The platform, aimed at middle and high school students, has been under development since the company’s founding in March 2013. The underlying machine learning algorithms were developed at Carnegie Mellon University, while LightSide’s founders were Ph.D. students at the Language Technologies Institute. Alumni of the LTI program have been leaders on the teams that built Google’s search engine, Apple’s Siri personal assistant, IBM’s Watson platform for question-answering, and many other computer programs that process human language.</p>\n",
    "<p>Earlier in 2013, the Bill &amp; Melinda Gates Foundation named LightSide as one of only 29 national winners of its “Literacy Courseware Challenge.” The foundation sought new ideas that could help 4th to 8th-grade students master the reading and writing skills required by the new Common Core State Standards.</p>\n",
    "<p>&#8211; CONTACT &#8211;<br />\n",
    "All press inquiries, including setting up interviews with founder Elijah Mayfield, should be sent to: <a href=\"/cdn-cgi/l/email-protection\" class=\"__cf_email__\" data-cfemail=\"611113041212210d08060915120805040d0003124f020e0c\">[email&#160;protected]</a></p>\n",
    "<p>&#8211; MORE INFORMATION &#8211;</p>\n",
    "<p>http://www.lightsidelabs.com/pilot for applications to participate in the pilot. http://www.lightsidelabs.com for more about the company’s technology and team. http://cbsn.ws/QIsU0Z for information about 2012’s record-low SAT essay scores. http://www.cvsd.net to learn about Chartiers Valley School District. http://bit.ly/YzK07o for more information about the Literacy Courseware Challenge. http://www.cmu.edu/olympus/ to learn about Project Olympus and other CMU startups.</p>"
   ]
  },
  {
   "cell_type": "code",
   "execution_count": null,
   "metadata": {
    "collapsed": true
   },
   "outputs": [],
   "source": []
  }
 ],
 "metadata": {
  "kernelspec": {
   "display_name": "Python 3",
   "language": "python",
   "name": "python3"
  },
  "language_info": {
   "codemirror_mode": {
    "name": "ipython",
    "version": 3
   },
   "file_extension": ".py",
   "mimetype": "text/x-python",
   "name": "python",
   "nbconvert_exporter": "python",
   "pygments_lexer": "ipython3",
   "version": "3.4.5"
  }
 },
 "nbformat": 4,
 "nbformat_minor": 2
}
