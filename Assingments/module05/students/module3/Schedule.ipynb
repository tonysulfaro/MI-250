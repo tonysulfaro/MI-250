{
 "cells": [
  {
   "cell_type": "markdown",
   "metadata": {},
   "source": [
    "# Module 3 : Data Cleaning and Reshaping\n",
    "----\n",
    "\n",
    "\n",
    "## Topics covered\n",
    "- Techniques for cleaning data\n",
    "- Techniques for structure data\n",
    "- Working with datetime objects\n",
    "\n",
    "\n",
    "\n",
    "## Labs, Practices and Exercises\n",
    "\n",
    "### Labs\n",
    "- [Data carpentry Lab with Python, part1](labs/data_carpentry_python_intro.ipynb) \n",
    "- [Data carpentry Lab with Python, part2](labs/data_carpentry_python2.ipynb)  \n",
    "\n",
    "\n",
    "### Practice Examples \n",
    "- [Practicing Data Carpentry with `Python`](practices/python_carpentry_practice.ipynb)\n",
    "\n",
    "\n",
    "\n",
    "### Exercises\n",
    "- [Data Carpentry for a Mini Analysis `Python`](exercises/data_carpentry_python.ipynb)\n",
    " \n",
    "\n",
    "### Readings\n",
    "- [Tidy Data](resources/tidy-data.pdf)\n",
    "\n",
    "\n",
    "\n",
    "## Data Sets\n",
    "Path: `~/datasets/`\n",
    "\n",
    "Dataset Name    | File\n",
    "----------------|------------\n",
    "MLB Players     | `datasets/baseball-databank/data/Master.csv`\n",
    "MLB Batting     | `datasets/baseball-databank/data/Batting.csv`\n",
    "MLB Teams       | `datasets/baseball-databank/data/Teams.csv`\n",
    "\n",
    "\n",
    "\n",
    "\n"
   ]
  },
  {
   "cell_type": "code",
   "execution_count": null,
   "metadata": {},
   "outputs": [],
   "source": []
  }
 ],
 "metadata": {
  "kernelspec": {
   "display_name": "Python 3",
   "language": "python",
   "name": "python3"
  },
  "language_info": {
   "codemirror_mode": {
    "name": "ipython",
    "version": 3
   },
   "file_extension": ".py",
   "mimetype": "text/x-python",
   "name": "python",
   "nbconvert_exporter": "python",
   "pygments_lexer": "ipython3",
   "version": "3.4.5"
  }
 },
 "nbformat": 4,
 "nbformat_minor": 1
}
