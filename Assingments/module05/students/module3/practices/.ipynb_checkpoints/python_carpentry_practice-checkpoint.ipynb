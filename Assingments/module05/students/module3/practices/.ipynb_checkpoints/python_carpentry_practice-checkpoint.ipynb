{
 "cells": [
  {
   "cell_type": "markdown",
   "metadata": {},
   "source": [
    "# Practicing Data Carpentry with `Python`\n",
    "\n",
    "\n",
    "Remember, data carpentry is limitless. Datasets are messy in different ways so we have to think about the best way to clean them according to the type of question we are trying to answer.\n",
    "\n",
    "We are going to move away from the datasets we used for data carpentry in the lab, and begin to look at some of the baseball data. Now, the beauty of baseball data is that it has been regularly collected for decades, so there is a lot of it, and it is generally well organized, so much of our cleaning problems won't be to restructure the data. Instead, since there is so much of it, we often need to do data conversions in order to tackle our problems effectively. \n",
    "\n",
    "Let's go ahead and read in the `Master.csv`, which has data on all of the players. We will call this data frame, `players`."
   ]
  },
  {
   "cell_type": "markdown",
   "metadata": {},
   "source": [
    "### Read in the Data"
   ]
  },
  {
   "cell_type": "code",
   "execution_count": 12,
   "metadata": {},
   "outputs": [],
   "source": [
    "import pandas as pd\n",
    " \n",
    "players = pd.read_csv('../../datasets/baseball-databank/data/Master.csv')"
   ]
  },
  {
   "cell_type": "code",
   "execution_count": 13,
   "metadata": {},
   "outputs": [
    {
     "data": {
      "text/html": [
       "<div>\n",
       "<style scoped>\n",
       "    .dataframe tbody tr th:only-of-type {\n",
       "        vertical-align: middle;\n",
       "    }\n",
       "\n",
       "    .dataframe tbody tr th {\n",
       "        vertical-align: top;\n",
       "    }\n",
       "\n",
       "    .dataframe thead th {\n",
       "        text-align: right;\n",
       "    }\n",
       "</style>\n",
       "<table border=\"1\" class=\"dataframe\">\n",
       "  <thead>\n",
       "    <tr style=\"text-align: right;\">\n",
       "      <th></th>\n",
       "      <th>playerID</th>\n",
       "      <th>birthYear</th>\n",
       "      <th>birthMonth</th>\n",
       "      <th>birthDay</th>\n",
       "      <th>birthCountry</th>\n",
       "      <th>birthState</th>\n",
       "      <th>birthCity</th>\n",
       "      <th>deathYear</th>\n",
       "      <th>deathMonth</th>\n",
       "      <th>deathDay</th>\n",
       "      <th>...</th>\n",
       "      <th>nameLast</th>\n",
       "      <th>nameGiven</th>\n",
       "      <th>weight</th>\n",
       "      <th>height</th>\n",
       "      <th>bats</th>\n",
       "      <th>throws</th>\n",
       "      <th>debut</th>\n",
       "      <th>finalGame</th>\n",
       "      <th>retroID</th>\n",
       "      <th>bbrefID</th>\n",
       "    </tr>\n",
       "  </thead>\n",
       "  <tbody>\n",
       "    <tr>\n",
       "      <th>0</th>\n",
       "      <td>aardsda01</td>\n",
       "      <td>1981.0</td>\n",
       "      <td>12.0</td>\n",
       "      <td>27.0</td>\n",
       "      <td>USA</td>\n",
       "      <td>CO</td>\n",
       "      <td>Denver</td>\n",
       "      <td>NaN</td>\n",
       "      <td>NaN</td>\n",
       "      <td>NaN</td>\n",
       "      <td>...</td>\n",
       "      <td>Aardsma</td>\n",
       "      <td>David Allan</td>\n",
       "      <td>220.0</td>\n",
       "      <td>75.0</td>\n",
       "      <td>R</td>\n",
       "      <td>R</td>\n",
       "      <td>2004-04-06</td>\n",
       "      <td>2015-08-23</td>\n",
       "      <td>aardd001</td>\n",
       "      <td>aardsda01</td>\n",
       "    </tr>\n",
       "    <tr>\n",
       "      <th>1</th>\n",
       "      <td>aaronha01</td>\n",
       "      <td>1934.0</td>\n",
       "      <td>2.0</td>\n",
       "      <td>5.0</td>\n",
       "      <td>USA</td>\n",
       "      <td>AL</td>\n",
       "      <td>Mobile</td>\n",
       "      <td>NaN</td>\n",
       "      <td>NaN</td>\n",
       "      <td>NaN</td>\n",
       "      <td>...</td>\n",
       "      <td>Aaron</td>\n",
       "      <td>Henry Louis</td>\n",
       "      <td>180.0</td>\n",
       "      <td>72.0</td>\n",
       "      <td>R</td>\n",
       "      <td>R</td>\n",
       "      <td>1954-04-13</td>\n",
       "      <td>1976-10-03</td>\n",
       "      <td>aaroh101</td>\n",
       "      <td>aaronha01</td>\n",
       "    </tr>\n",
       "    <tr>\n",
       "      <th>2</th>\n",
       "      <td>aaronto01</td>\n",
       "      <td>1939.0</td>\n",
       "      <td>8.0</td>\n",
       "      <td>5.0</td>\n",
       "      <td>USA</td>\n",
       "      <td>AL</td>\n",
       "      <td>Mobile</td>\n",
       "      <td>1984.0</td>\n",
       "      <td>8.0</td>\n",
       "      <td>16.0</td>\n",
       "      <td>...</td>\n",
       "      <td>Aaron</td>\n",
       "      <td>Tommie Lee</td>\n",
       "      <td>190.0</td>\n",
       "      <td>75.0</td>\n",
       "      <td>R</td>\n",
       "      <td>R</td>\n",
       "      <td>1962-04-10</td>\n",
       "      <td>1971-09-26</td>\n",
       "      <td>aarot101</td>\n",
       "      <td>aaronto01</td>\n",
       "    </tr>\n",
       "    <tr>\n",
       "      <th>3</th>\n",
       "      <td>aasedo01</td>\n",
       "      <td>1954.0</td>\n",
       "      <td>9.0</td>\n",
       "      <td>8.0</td>\n",
       "      <td>USA</td>\n",
       "      <td>CA</td>\n",
       "      <td>Orange</td>\n",
       "      <td>NaN</td>\n",
       "      <td>NaN</td>\n",
       "      <td>NaN</td>\n",
       "      <td>...</td>\n",
       "      <td>Aase</td>\n",
       "      <td>Donald William</td>\n",
       "      <td>190.0</td>\n",
       "      <td>75.0</td>\n",
       "      <td>R</td>\n",
       "      <td>R</td>\n",
       "      <td>1977-07-26</td>\n",
       "      <td>1990-10-03</td>\n",
       "      <td>aased001</td>\n",
       "      <td>aasedo01</td>\n",
       "    </tr>\n",
       "    <tr>\n",
       "      <th>4</th>\n",
       "      <td>abadan01</td>\n",
       "      <td>1972.0</td>\n",
       "      <td>8.0</td>\n",
       "      <td>25.0</td>\n",
       "      <td>USA</td>\n",
       "      <td>FL</td>\n",
       "      <td>Palm Beach</td>\n",
       "      <td>NaN</td>\n",
       "      <td>NaN</td>\n",
       "      <td>NaN</td>\n",
       "      <td>...</td>\n",
       "      <td>Abad</td>\n",
       "      <td>Fausto Andres</td>\n",
       "      <td>184.0</td>\n",
       "      <td>73.0</td>\n",
       "      <td>L</td>\n",
       "      <td>L</td>\n",
       "      <td>2001-09-10</td>\n",
       "      <td>2006-04-13</td>\n",
       "      <td>abada001</td>\n",
       "      <td>abadan01</td>\n",
       "    </tr>\n",
       "  </tbody>\n",
       "</table>\n",
       "<p>5 rows × 24 columns</p>\n",
       "</div>"
      ],
      "text/plain": [
       "    playerID  birthYear  birthMonth  birthDay birthCountry birthState  \\\n",
       "0  aardsda01     1981.0        12.0      27.0          USA         CO   \n",
       "1  aaronha01     1934.0         2.0       5.0          USA         AL   \n",
       "2  aaronto01     1939.0         8.0       5.0          USA         AL   \n",
       "3   aasedo01     1954.0         9.0       8.0          USA         CA   \n",
       "4   abadan01     1972.0         8.0      25.0          USA         FL   \n",
       "\n",
       "    birthCity  deathYear  deathMonth  deathDay    ...     nameLast  \\\n",
       "0      Denver        NaN         NaN       NaN    ...      Aardsma   \n",
       "1      Mobile        NaN         NaN       NaN    ...        Aaron   \n",
       "2      Mobile     1984.0         8.0      16.0    ...        Aaron   \n",
       "3      Orange        NaN         NaN       NaN    ...         Aase   \n",
       "4  Palm Beach        NaN         NaN       NaN    ...         Abad   \n",
       "\n",
       "        nameGiven weight height bats throws       debut   finalGame   retroID  \\\n",
       "0     David Allan  220.0   75.0    R      R  2004-04-06  2015-08-23  aardd001   \n",
       "1     Henry Louis  180.0   72.0    R      R  1954-04-13  1976-10-03  aaroh101   \n",
       "2      Tommie Lee  190.0   75.0    R      R  1962-04-10  1971-09-26  aarot101   \n",
       "3  Donald William  190.0   75.0    R      R  1977-07-26  1990-10-03  aased001   \n",
       "4   Fausto Andres  184.0   73.0    L      L  2001-09-10  2006-04-13  abada001   \n",
       "\n",
       "     bbrefID  \n",
       "0  aardsda01  \n",
       "1  aaronha01  \n",
       "2  aaronto01  \n",
       "3   aasedo01  \n",
       "4   abadan01  \n",
       "\n",
       "[5 rows x 24 columns]"
      ]
     },
     "execution_count": 13,
     "metadata": {},
     "output_type": "execute_result"
    }
   ],
   "source": [
    "players.head()"
   ]
  },
  {
   "cell_type": "markdown",
   "metadata": {},
   "source": [
    "Do you see the column of ellipses? This means that those columns are there, but they aren't rendered right now because the frame would be too wide. So, instead, let's print out all of the column names in order to see what labels they have."
   ]
  },
  {
   "cell_type": "code",
   "execution_count": 14,
   "metadata": {},
   "outputs": [
    {
     "data": {
      "text/plain": [
       "Index(['playerID', 'birthYear', 'birthMonth', 'birthDay', 'birthCountry',\n",
       "       'birthState', 'birthCity', 'deathYear', 'deathMonth', 'deathDay',\n",
       "       'deathCountry', 'deathState', 'deathCity', 'nameFirst', 'nameLast',\n",
       "       'nameGiven', 'weight', 'height', 'bats', 'throws', 'debut', 'finalGame',\n",
       "       'retroID', 'bbrefID'],\n",
       "      dtype='object')"
      ]
     },
     "execution_count": 14,
     "metadata": {},
     "output_type": "execute_result"
    }
   ],
   "source": [
    "players.columns"
   ]
  },
  {
   "cell_type": "markdown",
   "metadata": {},
   "source": [
    "Look at the `finalGame` column. It is actually a date, but if we find the data type right now, it is an object. \n",
    "\n",
    "**Note**: an object `dtype` in pandas is actually a way to describe a vector of strings. This is borrowed from `numpy` in which vectors must contain items of the same byte size and, given that strings are of variable sizes, `pandas` saves pointers to objects. "
   ]
  },
  {
   "cell_type": "code",
   "execution_count": 15,
   "metadata": {},
   "outputs": [
    {
     "data": {
      "text/plain": [
       "dtype('O')"
      ]
     },
     "execution_count": 15,
     "metadata": {},
     "output_type": "execute_result"
    }
   ],
   "source": [
    "players.finalGame.dtype"
   ]
  },
  {
   "cell_type": "markdown",
   "metadata": {},
   "source": [
    "Here is how we would change it to a datetime data type. "
   ]
  },
  {
   "cell_type": "code",
   "execution_count": 16,
   "metadata": {},
   "outputs": [
    {
     "data": {
      "text/plain": [
       "0       2015-08-23\n",
       "1       1976-10-03\n",
       "2       1971-09-26\n",
       "3       1990-10-03\n",
       "4       2006-04-13\n",
       "5       2015-10-03\n",
       "6       1875-06-10\n",
       "7       1910-09-15\n",
       "8       1896-09-23\n",
       "9       1897-08-19\n",
       "10      1890-05-23\n",
       "11      1905-09-20\n",
       "12      1984-08-08\n",
       "13      2001-09-29\n",
       "14      1999-07-21\n",
       "15      2001-04-13\n",
       "16      1996-08-24\n",
       "17      1910-10-15\n",
       "18      2004-08-07\n",
       "19      1957-09-11\n",
       "20      1871-10-21\n",
       "21      2008-09-28\n",
       "22      1952-09-27\n",
       "23      2005-09-29\n",
       "24      1944-04-29\n",
       "25      1972-09-30\n",
       "26      1947-04-17\n",
       "27      1949-05-09\n",
       "28      1911-05-05\n",
       "29      1992-10-03\n",
       "           ...    \n",
       "18816   2015-09-30\n",
       "18817   1945-09-30\n",
       "18818   2015-09-07\n",
       "18819   2008-08-12\n",
       "18820   1921-07-19\n",
       "18821   1888-05-03\n",
       "18822   1915-09-16\n",
       "18823   1929-08-25\n",
       "18824   1944-08-26\n",
       "18825   2004-10-03\n",
       "18826   1962-09-30\n",
       "18827   1983-09-21\n",
       "18828   2015-09-30\n",
       "18829   1929-09-25\n",
       "18830   1911-06-01\n",
       "18831   2015-10-04\n",
       "18832   2003-09-28\n",
       "18833   1952-08-26\n",
       "18834   2000-10-01\n",
       "18835   1947-09-23\n",
       "18836   1998-09-27\n",
       "18837   2001-06-25\n",
       "18838   2010-06-28\n",
       "18839   2015-08-27\n",
       "18840   1994-08-04\n",
       "18841   1961-05-09\n",
       "18842   1991-05-02\n",
       "18843   1959-06-15\n",
       "18844   1916-07-12\n",
       "18845   2015-10-03\n",
       "Name: finalGame, Length: 18846, dtype: datetime64[ns]"
      ]
     },
     "execution_count": 16,
     "metadata": {},
     "output_type": "execute_result"
    }
   ],
   "source": [
    "pd.to_datetime(players.finalGame)"
   ]
  },
  {
   "cell_type": "markdown",
   "metadata": {},
   "source": [
    "We are going to be working a lot with datetime variables during this practice. Accounting for time is often a powerful dimension if your data contains it. However, working with dates and times can be particularly difficult and is the reason why this lesson is particularly heavy in working with them. Like other data types, datetimes come built with unique functionality that allows the user to perform useful operations. "
   ]
  },
  {
   "cell_type": "markdown",
   "metadata": {},
   "source": [
    "**Exercise 1**: *Overwrite the `players['finalGame']` column to the new datetime object.*"
   ]
  },
  {
   "cell_type": "code",
   "execution_count": 17,
   "metadata": {},
   "outputs": [
    {
     "data": {
      "text/plain": [
       "0       2015-08-23\n",
       "1       1976-10-03\n",
       "2       1971-09-26\n",
       "3       1990-10-03\n",
       "4       2006-04-13\n",
       "5       2015-10-03\n",
       "6       1875-06-10\n",
       "7       1910-09-15\n",
       "8       1896-09-23\n",
       "9       1897-08-19\n",
       "10      1890-05-23\n",
       "11      1905-09-20\n",
       "12      1984-08-08\n",
       "13      2001-09-29\n",
       "14      1999-07-21\n",
       "15      2001-04-13\n",
       "16      1996-08-24\n",
       "17      1910-10-15\n",
       "18      2004-08-07\n",
       "19      1957-09-11\n",
       "20      1871-10-21\n",
       "21      2008-09-28\n",
       "22      1952-09-27\n",
       "23      2005-09-29\n",
       "24      1944-04-29\n",
       "25      1972-09-30\n",
       "26      1947-04-17\n",
       "27      1949-05-09\n",
       "28      1911-05-05\n",
       "29      1992-10-03\n",
       "           ...    \n",
       "18816   2015-09-30\n",
       "18817   1945-09-30\n",
       "18818   2015-09-07\n",
       "18819   2008-08-12\n",
       "18820   1921-07-19\n",
       "18821   1888-05-03\n",
       "18822   1915-09-16\n",
       "18823   1929-08-25\n",
       "18824   1944-08-26\n",
       "18825   2004-10-03\n",
       "18826   1962-09-30\n",
       "18827   1983-09-21\n",
       "18828   2015-09-30\n",
       "18829   1929-09-25\n",
       "18830   1911-06-01\n",
       "18831   2015-10-04\n",
       "18832   2003-09-28\n",
       "18833   1952-08-26\n",
       "18834   2000-10-01\n",
       "18835   1947-09-23\n",
       "18836   1998-09-27\n",
       "18837   2001-06-25\n",
       "18838   2010-06-28\n",
       "18839   2015-08-27\n",
       "18840   1994-08-04\n",
       "18841   1961-05-09\n",
       "18842   1991-05-02\n",
       "18843   1959-06-15\n",
       "18844   1916-07-12\n",
       "18845   2015-10-03\n",
       "Name: finalGame, Length: 18846, dtype: datetime64[ns]"
      ]
     },
     "execution_count": 17,
     "metadata": {},
     "output_type": "execute_result"
    }
   ],
   "source": [
    "# Code for Exercise 1 goes here \n",
    "# -----------------------------\n",
    "\n",
    "players['finalGame'] = pd.to_datetime(players.finalGame)\n",
    "\n",
    "players['finalGame']"
   ]
  },
  {
   "cell_type": "markdown",
   "metadata": {},
   "source": [
    "**Exercise 2**: *Convert `players['debut']` to a datetime object then overwrite the `players['debut']` column to the new datetime object.*"
   ]
  },
  {
   "cell_type": "code",
   "execution_count": 18,
   "metadata": {},
   "outputs": [
    {
     "data": {
      "text/plain": [
       "0       2004-04-06\n",
       "1       1954-04-13\n",
       "2       1962-04-10\n",
       "3       1977-07-26\n",
       "4       2001-09-10\n",
       "5       2010-07-28\n",
       "6       1875-04-26\n",
       "7       1897-09-04\n",
       "8       1892-06-14\n",
       "9       1893-08-16\n",
       "10      1890-04-19\n",
       "11      1903-04-25\n",
       "12      1973-07-29\n",
       "13      1997-06-10\n",
       "14      1989-04-08\n",
       "15      1993-09-07\n",
       "16      1991-09-10\n",
       "17      1910-09-10\n",
       "18      1990-08-21\n",
       "19      1950-09-15\n",
       "20      1871-10-21\n",
       "21      2006-04-04\n",
       "22      1952-09-27\n",
       "23      2001-06-25\n",
       "24      1942-09-19\n",
       "25      1955-04-13\n",
       "26      1946-07-28\n",
       "27      1947-07-18\n",
       "28      1905-09-04\n",
       "29      1987-09-08\n",
       "           ...    \n",
       "18816   2009-04-20\n",
       "18817   1945-08-27\n",
       "18818   2005-09-01\n",
       "18819   2008-08-12\n",
       "18820   1921-07-06\n",
       "18821   1888-04-18\n",
       "18822   1911-09-11\n",
       "18823   1919-09-04\n",
       "18824   1944-08-19\n",
       "18825   2002-06-18\n",
       "18826   1961-07-26\n",
       "18827   1971-09-08\n",
       "18828   2000-07-22\n",
       "18829   1919-04-27\n",
       "18830   1910-07-23\n",
       "18831   2006-08-01\n",
       "18832   2003-09-05\n",
       "18833   1944-05-13\n",
       "18834   1991-09-02\n",
       "18835   1936-09-16\n",
       "18836   1996-04-19\n",
       "18837   2000-04-06\n",
       "18838   2006-04-03\n",
       "18839   2013-06-12\n",
       "18840   1991-09-07\n",
       "18841   1957-07-01\n",
       "18842   1982-09-04\n",
       "18843   1951-04-21\n",
       "18844   1910-08-14\n",
       "18845   2015-09-04\n",
       "Name: debut, Length: 18846, dtype: datetime64[ns]"
      ]
     },
     "execution_count": 18,
     "metadata": {},
     "output_type": "execute_result"
    }
   ],
   "source": [
    "# Code for Exercise 2 goes here \n",
    "# -----------------------------\n",
    "\n",
    "\n",
    "players['debut'] = pd.to_datetime(players.debut)\n",
    "players['debut'] "
   ]
  },
  {
   "cell_type": "markdown",
   "metadata": {},
   "source": [
    "Creating a datetime object is nice because datetime objects come with their own methods. For example, if we wanted to see a distribution of the days of the week, we could do that by extracting the day of the week. Take a look at how we would do that below."
   ]
  },
  {
   "cell_type": "code",
   "execution_count": 19,
   "metadata": {},
   "outputs": [
    {
     "data": {
      "text/plain": [
       "0       Sunday\n",
       "1       Sunday\n",
       "2       Sunday\n",
       "3    Wednesday\n",
       "4     Thursday\n",
       "Name: finalGame, dtype: object"
      ]
     },
     "execution_count": 19,
     "metadata": {},
     "output_type": "execute_result"
    }
   ],
   "source": [
    "players['finalGame'] = pd.to_datetime(players.finalGame)\n",
    "players['finalGame'].dt.weekday_name.head()"
   ]
  },
  {
   "cell_type": "markdown",
   "metadata": {},
   "source": [
    "This returns a series of days of the week, which could be nice for certain types of analyses.\n",
    "\n",
    "**Exercise 3**: *Create a column in the `players` data frame called `debutMonth` and assign the month number (as in Jan = 1, Feb = 2 and so on) of the `players['debut']` column.*"
   ]
  },
  {
   "cell_type": "code",
   "execution_count": 26,
   "metadata": {},
   "outputs": [],
   "source": [
    "# Code for Exercise 3 goes here \n",
    "# -----------------------------\n",
    "\n",
    "date = pd.to_datetime(players.debut)\n"
   ]
  },
  {
   "cell_type": "markdown",
   "metadata": {},
   "source": [
    "Last week we worked with some descriptive statistics, and it would be nice to be able to compute some on some variables from this data frame. However, sometimes the data isn't in the correct type and therefore the summary stats would produce something a little funny.\n",
    "\n",
    "Take a look at the `birthYear` column as it is right now when we call describe on it.\n"
   ]
  },
  {
   "cell_type": "code",
   "execution_count": null,
   "metadata": {
    "collapsed": true
   },
   "outputs": [],
   "source": [
    "players['birthYear'].describe()"
   ]
  },
  {
   "cell_type": "markdown",
   "metadata": {},
   "source": [
    "It doesn't really make sense to find the mean or standard deviation of the `birthYear` column. Year is actually a discrete variable and the number of people born each year might be more interesting. \n",
    "\n",
    "Below, we convert the `birthYear` column to a discrete variable, but first we must get rid of the `NaN`s."
   ]
  },
  {
   "cell_type": "code",
   "execution_count": null,
   "metadata": {
    "collapsed": true
   },
   "outputs": [],
   "source": [
    "players['birthYear']=players['birthYear'].fillna(-1).astype(int).astype('category')\n",
    "players['birthYear'].describe()"
   ]
  },
  {
   "cell_type": "markdown",
   "metadata": {},
   "source": [
    "You can see that we changed the `NaN`s with the value -1, and then we changed it to an integer, to get rid of the decimals, and then finally created a discrete variable so we can run the correct type of summary statistics. But what did we forget? Oh yes, the -1s are still in there and those are just empty. \n",
    "\n",
    "**Exercise 4**: *Run the `describe()` method on the `birthYear` without the `-1` values.*"
   ]
  },
  {
   "cell_type": "code",
   "execution_count": null,
   "metadata": {
    "collapsed": true
   },
   "outputs": [],
   "source": [
    "# Code for Exercise 4 goes here \n",
    "# -----------------------------\n",
    "\n"
   ]
  },
  {
   "cell_type": "markdown",
   "metadata": {},
   "source": [
    "**Exercise 5**: *Find the Month that most players were born in.*"
   ]
  },
  {
   "cell_type": "code",
   "execution_count": null,
   "metadata": {
    "collapsed": true
   },
   "outputs": [],
   "source": [
    "# Code for Exercise 5 goes here \n",
    "# -----------------------------\n",
    "\n",
    "\n"
   ]
  }
 ],
 "metadata": {
  "kernelspec": {
   "display_name": "Python 3",
   "language": "python",
   "name": "python3"
  },
  "language_info": {
   "codemirror_mode": {
    "name": "ipython",
    "version": 3
   },
   "file_extension": ".py",
   "mimetype": "text/x-python",
   "name": "python",
   "nbconvert_exporter": "python",
   "pygments_lexer": "ipython3",
   "version": "3.7.0"
  }
 },
 "nbformat": 4,
 "nbformat_minor": 1
}
