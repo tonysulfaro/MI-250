{
 "cells": [
  {
   "cell_type": "markdown",
   "metadata": {},
   "source": [
    "# Module 2 : Descriptive Statistics\n",
    "----\n",
    "\n",
    "## Topics covered\n",
    "- Intro to `NumPy`\n",
    "- Continuous and Categorical variables\n",
    "- Intro to Descriptive Statistics\n",
    "\n",
    "## Suggested Schedule\n",
    "We're moving through these modules somewhat more quickly than if this were a course devoted to Data Science.  For your in-class assignments, please turn in the labs and practice examples.  The exercises (for the next few weeks) will serve as homework.  I will specify what you need to turn in based on your progress through the materials.\n",
    "\n",
    "If you have the capacity, please turn in the [exercises from last week](../module1/exercises/intro_data_science_exercise_python.ipynb) as well as this weeks exercises (see below).\n",
    "\n",
    "------\n",
    "\n",
    "## Labs, Practices and Exercises\n",
    "\n",
    "### Labs\n",
    "- [Introduction to the `NumPy` Package](labs/intro_numpy.ipynb)\n",
    "- [Soft Introduction to Descriptive Statistics with `NumPy`](labs/intro_descriptive_stats_python.ipynb)\n",
    "\n",
    "\n",
    "### Practice Examples  \n",
    "- [Practicing Descriptive Statistics with `NumPy` and `pandas`](practices/practice_descriptive_stats_python.ipynb)\n",
    "\n",
    "\n",
    "### Exercises\n",
    "- [Descriptive Statistics with `Python` Exercises](exercises/exercises_descriptive_stats_python.ipynb)\n",
    "\n",
    "\n",
    "## Readings\n",
    "- [How to Tell Someone's Age When All You Know is Her Name](https://fivethirtyeight.com/features/how-to-tell-someones-age-when-all-you-know-is-her-name/?ex_cid=538twitter) \n",
    "\n",
    "\n",
    "\n",
    "## Data Sets\n",
    "Path: `~/datasets/`\n",
    "\n",
    "Dataset Name    | File\n",
    "----------------|------------\n",
    "Baby Names 3    | `baby-names/NationalNames3.csv`\n",
    "Game of Thrones | `game-of-thrones/GoT_age_at_death.csv`\n",
    "Congress Terms  | `congress-terms.csv`\n",
    "\n",
    "\n"
   ]
  },
  {
   "cell_type": "code",
   "execution_count": null,
   "metadata": {},
   "outputs": [],
   "source": []
  }
 ],
 "metadata": {
  "kernelspec": {
   "display_name": "Python 3",
   "language": "python",
   "name": "python3"
  },
  "language_info": {
   "codemirror_mode": {
    "name": "ipython",
    "version": 3
   },
   "file_extension": ".py",
   "mimetype": "text/x-python",
   "name": "python",
   "nbconvert_exporter": "python",
   "pygments_lexer": "ipython3",
   "version": "3.7.0"
  }
 },
 "nbformat": 4,
 "nbformat_minor": 1
}
