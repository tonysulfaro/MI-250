{
 "cells": [
  {
   "cell_type": "markdown",
   "metadata": {},
   "source": [
    "## Module 6: Ontologies and Document Classification \n",
    "\n",
    "\n",
    "Ontologies are sets of words that are used to help discern what is being talked about in digitized, text based information. \n",
    "\n",
    "You learned a little bit about how this works in modules 5 and 6, because you dissected the words that are common in a particular set of books. \n",
    "\n",
    "What are ontologies used for in practice, though? How would a data scientist deploy them?  \n",
    "\n",
    "Maybe the easiest way to show you is with a few examples from research. \n",
    "1. Processing Twitter Data to Identify Events: [Football and Baseball Ontologies](./resources/baseball.pdf)\n",
    "2. Processing online health support forums to identify the type of support being provided: Emotional, community or informational: [WebMD Health Support Forum Ontologies](./resources/onlinehealth.pdf)\n",
    "3. Noting the emergence of terms in an adult kickball league's online discussion forum: [Finding Ontologies Where None Exist Yet - Topic Modeling](./resources/kickball.pdf)\n",
    "\n",
    "In each case you will notice that we picked a specific ontology with which to make sense of what was happening.  In the case of Twitter, we used player names and sport specific words like \"out\" for baseball and \"touchdown\" for football to identify new events on the field through the Twitter feed. \n",
    "\n",
    "In online health support forums, we used ontologies of emotional, informational and community support words to identify specific types of support.  You will see, if you look through the paper casually (skimming is OK!) that some health conditions elicit different levels of different types of support, and exhibit different membership stability (unrelated to ontology, but still pretty cool!). \n",
    "\n",
    "Think about an ontology - sports, a hobby, health related - that you might want to use to classify a set of text. Its likely to come up again. :) \n",
    "\n",
    "Here are links to the labs and practices for this modules.  \n",
    "\n",
    "**Labs**\n",
    "1. [Lab: Text Analysis with Python](./labs/Lab_06.01_TextAnalysis_Python.ipynb)\n",
    "2. [Lab: Text Classification](./labs/Lab_06.03_Text_Classification.ipynb)\n",
    "3. [Lab: Ngrams and Text Clustering](./labs/Lab_06.04_Ngrams_Clustering.ipynb)\n",
    "\n",
    "**Practices** \n",
    "\n",
    "1. [Practice: Classification](./practices/Practice_06.01_Classification.ipynb)\n"
   ]
  },
  {
   "cell_type": "markdown",
   "metadata": {},
   "source": [
    "## Data Sets\n",
    "\n",
    "For this module, our data sets are files to process.\n",
    "\n",
    "Found in the root directory datasets folder:\n",
    "Path: `../../datasets/`\n",
    "\n",
    " Dataset Name                | Files\n",
    "-----------------------------|------------\n",
    " newsgroups                  | `newsgroups/` \n",
    " tweets                      | `tweets.csv` \n",
    " movie_reviews               | `movie_reviews` \n",
    " \n",
    " "
   ]
  },
  {
   "cell_type": "code",
   "execution_count": null,
   "metadata": {},
   "outputs": [],
   "source": []
  }
 ],
 "metadata": {
  "kernelspec": {
   "display_name": "R",
   "language": "R",
   "name": "ir"
  },
  "language_info": {
   "codemirror_mode": "r",
   "file_extension": ".r",
   "mimetype": "text/x-r-source",
   "name": "R",
   "pygments_lexer": "r",
   "version": "3.4.1"
  }
 },
 "nbformat": 4,
 "nbformat_minor": 2
}
