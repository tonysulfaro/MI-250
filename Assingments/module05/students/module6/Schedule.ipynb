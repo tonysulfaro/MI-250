{
 "cells": [
  {
   "cell_type": "markdown",
   "metadata": {},
   "source": [
    "# Module 6: Basic Modeling Part 1\n",
    "----\n",
    "\n",
    "## Topics covered\n",
    "  - What is Machine Learning?\n",
    "  - Choosing a Machine Learning Algorithm that Fits your Data\n",
    "  - Introduction to Decision Trees and Naive Bayes Classification\n",
    "  - Packages for Performing Decision Trees and Naive Bayes Classification\n",
    "\n",
    "\n",
    "------\n",
    "\n",
    "## Labs, Practices and Exercises\n",
    "\n",
    "### Labs\n",
    "- [Intro to Naive Bayes Classification with `Python`](labs/intro_naive_bayes_python.ipynb)\n",
    "\n",
    "### Practices \n",
    "- [Practice Decision Tree with `Python`](practices/practice_ml_python.ipynb)\n",
    "\n",
    "\n",
    "### Exercises \n",
    "- [`Python` Machine Learning Exercises](exercises/ml_exercises_python.ipynb)\n",
    "\n",
    "\n",
    "## Readings\n",
    "- [**Reading**: A Visual Introduction to Machine Learning](http://www.r2d3.us/visual-intro-to-machine-learning-part-1/) giving an introduction to machine learning and decision trees\n",
    "\n",
    "\n"
   ]
  },
  {
   "cell_type": "code",
   "execution_count": null,
   "metadata": {},
   "outputs": [],
   "source": []
  }
 ],
 "metadata": {
  "kernelspec": {
   "display_name": "Python 3",
   "language": "python",
   "name": "python3"
  },
  "language_info": {
   "codemirror_mode": {
    "name": "ipython",
    "version": 3
   },
   "file_extension": ".py",
   "mimetype": "text/x-python",
   "name": "python",
   "nbconvert_exporter": "python",
   "pygments_lexer": "ipython3",
   "version": "3.4.5"
  }
 },
 "nbformat": 4,
 "nbformat_minor": 1
}
